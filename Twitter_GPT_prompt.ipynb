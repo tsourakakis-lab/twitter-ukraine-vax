{
 "cells": [
  {
   "cell_type": "code",
   "execution_count": 1,
   "metadata": {},
   "outputs": [],
   "source": [
    "import pickle \n",
    "import networkx as nx\n",
    "import numpy as np\n",
    "import matplotlib.pyplot as plt\n",
    "from datetime import datetime, date, time, timezone\n",
    "import logging\n",
    "logging.basicConfig(filename='logs.log', level=logging.INFO)\n",
    "from collections import defaultdict"
   ]
  },
  {
   "cell_type": "code",
   "execution_count": 2,
   "metadata": {},
   "outputs": [],
   "source": [
    "G = nx.read_edgelist('final.edgelist',create_using=nx.DiGraph)"
   ]
  },
  {
   "cell_type": "code",
   "execution_count": 3,
   "metadata": {},
   "outputs": [
    {
     "data": {
      "text/plain": [
       "(3409, 13504)"
      ]
     },
     "execution_count": 3,
     "metadata": {},
     "output_type": "execute_result"
    }
   ],
   "source": [
    "G.number_of_nodes(), G.number_of_edges()"
   ]
  },
  {
   "cell_type": "code",
   "execution_count": null,
   "metadata": {},
   "outputs": [],
   "source": [
    "data['806344552718045184']"
   ]
  },
  {
   "cell_type": "markdown",
   "metadata": {},
   "source": [
    "## Check opinions"
   ]
  },
  {
   "cell_type": "code",
   "execution_count": 4,
   "metadata": {},
   "outputs": [],
   "source": [
    "import json\n",
    " \n",
    "# Opening JSON file\n",
    "with open('vax_final.json') as json_file:\n",
    "    data = json.load(json_file)"
   ]
  },
  {
   "cell_type": "code",
   "execution_count": 5,
   "metadata": {},
   "outputs": [
    {
     "name": "stdout",
     "output_type": "stream",
     "text": [
      "60538\n"
     ]
    }
   ],
   "source": [
    "ttl_tweets = 0\n",
    "for i in data:\n",
    "    ttl_tweets += len(data[i])\n",
    "print(ttl_tweets)"
   ]
  },
  {
   "cell_type": "markdown",
   "metadata": {},
   "source": [
    "## Central node, a doctor against vax."
   ]
  },
  {
   "cell_type": "code",
   "execution_count": 7,
   "metadata": {
    "scrolled": true
   },
   "outputs": [
    {
     "data": {
      "text/plain": [
       "1513277342294196232"
      ]
     },
     "execution_count": 7,
     "metadata": {},
     "output_type": "execute_result"
    }
   ],
   "source": [
    "example_user = data['806344552718045184']\n",
    "ex_tweet = example_user[0]['tweet_id']\n",
    "ex_tweet"
   ]
  },
  {
   "cell_type": "code",
   "execution_count": 6,
   "metadata": {},
   "outputs": [
    {
     "data": {
      "text/plain": [
       "False"
      ]
     },
     "execution_count": 6,
     "metadata": {},
     "output_type": "execute_result"
    }
   ],
   "source": [
    "ex_tweet=='1513277342294196232'"
   ]
  },
  {
   "cell_type": "markdown",
   "metadata": {},
   "source": [
    "# Setup accounts for twitter crawler and OpenAI"
   ]
  },
  {
   "cell_type": "code",
   "execution_count": 6,
   "metadata": {},
   "outputs": [],
   "source": [
    "from twscrape import API, gather\n",
    "from twscrape.logger import set_log_level\n",
    "\n",
    "import openai"
   ]
  },
  {
   "cell_type": "code",
   "execution_count": null,
   "metadata": {},
   "outputs": [],
   "source": [
    "# twscrape in add_account, add your twitter account info (username, pwd, email, emailpwd) \n",
    "api = API()\n",
    "await api.pool.add_account()\n",
    "await api.pool.login_all()\n",
    "\n",
    "openai.api_key = \"ur api key here\""
   ]
  },
  {
   "cell_type": "markdown",
   "metadata": {},
   "source": [
    "# Data collection"
   ]
  },
  {
   "cell_type": "markdown",
   "metadata": {},
   "source": [
    "## collect user name - ID mapping"
   ]
  },
  {
   "cell_type": "code",
   "execution_count": null,
   "metadata": {},
   "outputs": [],
   "source": [
    "user_name_id_dict = {}"
   ]
  },
  {
   "cell_type": "code",
   "execution_count": null,
   "metadata": {},
   "outputs": [],
   "source": [
    "\n",
    "for user_id in G.nodes():\n",
    "#     if user_id in \n",
    "    u = await api.user_by_id(int(user_id))\n",
    "    try:\n",
    "        user_name_id_dict[u.username] = user_id\n",
    "    except:\n",
    "        continue"
   ]
  },
  {
   "cell_type": "code",
   "execution_count": 66,
   "metadata": {},
   "outputs": [],
   "source": [
    "pickle.dump(user_name_id_dict, open(\"user_id_dict.pkl\",'wb'))"
   ]
  },
  {
   "cell_type": "code",
   "execution_count": 65,
   "metadata": {},
   "outputs": [
    {
     "data": {
      "text/plain": [
       "(2861, 3409)"
      ]
     },
     "execution_count": 65,
     "metadata": {},
     "output_type": "execute_result"
    }
   ],
   "source": [
    "len(user_name_id_dict), G.number_of_nodes()"
   ]
  },
  {
   "cell_type": "code",
   "execution_count": 112,
   "metadata": {},
   "outputs": [
    {
     "data": {
      "text/plain": [
       "False"
      ]
     },
     "execution_count": 112,
     "metadata": {},
     "output_type": "execute_result"
    }
   ],
   "source": [
    "1462222331334610944 in user_name_id_dict.values()"
   ]
  },
  {
   "cell_type": "code",
   "execution_count": null,
   "metadata": {},
   "outputs": [],
   "source": []
  },
  {
   "cell_type": "code",
   "execution_count": 9,
   "metadata": {},
   "outputs": [],
   "source": [
    "tweet_content = {}\n",
    "# f = open('tweet_id_content_rate.txt','w')\n",
    "# f.close()"
   ]
  },
  {
   "cell_type": "code",
   "execution_count": 10,
   "metadata": {},
   "outputs": [],
   "source": [
    "f = open('tweet_id_content_rate.txt','r')\n",
    "for line in f:\n",
    "    if line.startswith(\"tweetID:\"):\n",
    "        tweet_content[int(line.split(\",\")[0].split(\":\")[1])] = line.split(\",\")[1]\n",
    "f.close()\n",
    "\n",
    "# tweet_content = {}\n",
    "history = set()\n",
    "f = open('tweet_id_content_rate_history.txt','r')\n",
    "for line in f:\n",
    "    try:\n",
    "        tweet_id = int(line.split(',')[0])\n",
    "    except:\n",
    "        continue\n",
    "    history.add(tweet_id)\n",
    "f.close()\n",
    "\n",
    "deleted_tweets = set()\n",
    "f = open('deleted_tweets.txt','r')\n",
    "for line in f:\n",
    "    deleted_tweets.add(int(line.strip()))\n",
    "f.close()"
   ]
  },
  {
   "cell_type": "code",
   "execution_count": 22,
   "metadata": {},
   "outputs": [
    {
     "name": "stdout",
     "output_type": "stream",
     "text": [
      "43079 1654 15477\n"
     ]
    }
   ],
   "source": [
    "print(len(tweet_content), len(history), len(deleted_tweets))"
   ]
  },
  {
   "cell_type": "code",
   "execution_count": 13,
   "metadata": {},
   "outputs": [],
   "source": [
    "logging.info(len(tweet_content))"
   ]
  },
  {
   "cell_type": "code",
   "execution_count": 12,
   "metadata": {},
   "outputs": [],
   "source": [
    "from tqdm import tqdm\n",
    "import time"
   ]
  },
  {
   "cell_type": "code",
   "execution_count": 13,
   "metadata": {},
   "outputs": [],
   "source": [
    "response_backup = {}"
   ]
  },
  {
   "cell_type": "code",
   "execution_count": null,
   "metadata": {
    "scrolled": true
   },
   "outputs": [],
   "source": [
    "sys_msg = f\"\"\"return only integer rate for the following tweet. The rate represents its opinion towards \n",
    "            covid vaccination with an integer between 0 to 10, with 10 being very positive \n",
    "            and support vaccination, 0 being very negative and skeptical about it, and 5 \n",
    "            being completely neutral. Covid vaccination is also called vax.\"\"\"\n",
    "\n",
    "msgs = [{\"role\":'system', \"content\":sys_msg}]\n",
    "m = 0\n",
    "t_ids = []\n",
    "for i in tqdm(G.nodes()):\n",
    "    user_data = data[i]\n",
    "    for each in user_data:\n",
    "        tweet_id = each['tweet_id']\n",
    "        if tweet_id in tweet_content or tweet_id in history or tweet_id in deleted_tweets:\n",
    "            continue\n",
    "        rawContent = await api.tweet_details(tweet_id)\n",
    "        if rawContent is None:\n",
    "            deleted_tweets.add(tweet_id)\n",
    "            logging.info(str(tweet_id) + \" give none\")\n",
    "            f = open('deleted_tweets.txt','a')\n",
    "            f.write(str(tweet_id)+\"\\n\")\n",
    "            f.close()\n",
    "            continue\n",
    "        t_ids.append(tweet_id)\n",
    "        tweet_content[tweet_id] = [rawContent.rawContent]\n",
    "        msgs.append({\"role\":\"user\",\"content\": rawContent.rawContent})\n",
    "#         if len(msgs)>10:\n",
    "        while True:\n",
    "            cnt = 0\n",
    "            try:\n",
    "                response = openai.ChatCompletion.create(\n",
    "                    model=\"gpt-3.5-turbo\",  # You can use other engines as well\n",
    "                    messages=msgs,\n",
    "                    temperature=0.2\n",
    "                )\n",
    "            except:\n",
    "                cnt += 1\n",
    "                if cnt>=4:\n",
    "                    logging.info(tweet_id, \" message causing API error\")\n",
    "                    logging.info(\"break after 3 attempts\")\n",
    "                    break\n",
    "                time.sleep(8*60)\n",
    "                continue\n",
    "            response_backup[tweet_id] = response\n",
    "            print(response['choices'][0]['message']['content'])\n",
    "#             for idx in range(len(t_ids)):\n",
    "#                 tweet_id = t_ids[idx]\n",
    "            rate = response['choices'][0]['message']['content'].strip()\n",
    "            tweet_content[tweet_id].append(rate)\n",
    "            f = open('tweet_id_content_rate.txt','a')\n",
    "            f.write(\"tweetID:\"+str(tweet_id)+','+tweet_content[tweet_id][1]+','+tweet_content[tweet_id][0]+'\\n')\n",
    "            f.close()\n",
    "#             t_ids = []\n",
    "            msgs = [{\"role\":'system', \"content\":sys_msg}]\n",
    "            break\n",
    "       "
   ]
  },
  {
   "cell_type": "code",
   "execution_count": 54,
   "metadata": {},
   "outputs": [],
   "source": [
    "f = open('tweet_id_content_rate.txt','a')\n",
    "f.write(\"tweetID:\"+str(tweet_id)+'\\n')\n",
    "f.close()"
   ]
  },
  {
   "cell_type": "markdown",
   "metadata": {},
   "source": [
    "## remove invalid labels and store final result"
   ]
  },
  {
   "cell_type": "code",
   "execution_count": 33,
   "metadata": {},
   "outputs": [
    {
     "data": {
      "text/plain": [
       "(43079, 37841)"
      ]
     },
     "execution_count": 33,
     "metadata": {},
     "output_type": "execute_result"
    }
   ],
   "source": [
    "def has_numbers(inputString):\n",
    "    cnt = 0\n",
    "    res = -1\n",
    "    for char in inputString:\n",
    "        if char.isdigit():\n",
    "            cnt += 1\n",
    "            res = int(char)\n",
    "        if cnt==2:\n",
    "            if res==1 and char=='0':\n",
    "                res = 10\n",
    "                cnt = 1\n",
    "            else:\n",
    "                return -1\n",
    "    return res\n",
    "\n",
    "final_opinion_dict = {}\n",
    "for i in tweet_content:\n",
    "    try:\n",
    "        final_opinion_dict[i] = int(tweet_content[i])\n",
    "    except:\n",
    "        check_res = has_numbers(tweet_content[i])\n",
    "        if check_res==-1:\n",
    "            continue\n",
    "        else:\n",
    "            final_opinion_dict[i] = check_res\n",
    "len(tweet_content), len(final_opinion_dict)"
   ]
  },
  {
   "cell_type": "code",
   "execution_count": 34,
   "metadata": {},
   "outputs": [],
   "source": [
    "f = open('tweet_id_content_rate_history.txt','r')\n",
    "prev_line = ''\n",
    "prev_id = -1\n",
    "for line in f:\n",
    "    try:\n",
    "        tweet_id = int(line.split(',')[0])\n",
    "        final_opinion_dict[prev_id] = int(prev_line.split(',')[-1])\n",
    "        prev_line = line\n",
    "        prev_id = tweet_id\n",
    "    except:\n",
    "        prev_line = line\n",
    "        continue"
   ]
  },
  {
   "cell_type": "code",
   "execution_count": 35,
   "metadata": {},
   "outputs": [
    {
     "data": {
      "text/plain": [
       "39488"
      ]
     },
     "execution_count": 35,
     "metadata": {},
     "output_type": "execute_result"
    }
   ],
   "source": [
    "len(final_opinion_dict)"
   ]
  },
  {
   "cell_type": "code",
   "execution_count": 38,
   "metadata": {},
   "outputs": [],
   "source": [
    "pickle.dump(final_opinion_dict, open(\"vax_gpt_labels.pkl\",\"wb\"))"
   ]
  },
  {
   "cell_type": "code",
   "execution_count": 37,
   "metadata": {},
   "outputs": [
    {
     "data": {
      "text/plain": [
       "(array([24320.,    82.,  5957.,   255.,   994.,  4767.,   322.,  1128.,\n",
       "         1397.,   266.]),\n",
       " array([ 0.,  1.,  2.,  3.,  4.,  5.,  6.,  7.,  8.,  9., 10.]),\n",
       " <BarContainer object of 10 artists>)"
      ]
     },
     "execution_count": 37,
     "metadata": {},
     "output_type": "execute_result"
    },
    {
     "data": {
      "image/png": "[encoded data removed]",
      "text/plain": [
       "<Figure size 640x480 with 1 Axes>"
      ]
     },
     "metadata": {},
     "output_type": "display_data"
    }
   ],
   "source": [
    "plt.hist(list(final_opinion_dict.values()))"
   ]
  },
  {
   "cell_type": "markdown",
   "metadata": {},
   "source": [
    "## construct mention relations "
   ]
  },
  {
   "cell_type": "code",
   "execution_count": 68,
   "metadata": {},
   "outputs": [
    {
     "data": {
      "text/plain": [
       "24686"
      ]
     },
     "execution_count": 68,
     "metadata": {},
     "output_type": "execute_result"
    }
   ],
   "source": [
    "len(response_backup)"
   ]
  },
  {
   "cell_type": "code",
   "execution_count": 115,
   "metadata": {},
   "outputs": [],
   "source": [
    "tid_uid_map = {}\n",
    "for user in data:\n",
    "    for it in data[user]:\n",
    "        tid_uid_map[it[\"tweet_id\"]] = int(user)"
   ]
  },
  {
   "cell_type": "code",
   "execution_count": 117,
   "metadata": {},
   "outputs": [],
   "source": [
    "f = open('tweet_id_content_rate_history.txt','r')\n",
    "tid_mentionID_dict = {}\n",
    "prev_line = ''\n",
    "prev_id = -1\n",
    "tmp = []\n",
    "for line in f:\n",
    "    cur = []\n",
    "    if \"@\" in line:\n",
    "        for sub in line.split(\"@\"):\n",
    "            pos_name = sub.split(\" \")[0]\n",
    "            if pos_name in user_name_id_dict:\n",
    "                cur.append(int(user_name_id_dict[pos_name]))\n",
    "    try:\n",
    "        tweet_id = int(line.split(',')[0])\n",
    "        if len(tmp)>0:\n",
    "            tid_mentionID_dict[tid_uid_map[prev_id]] = tmp\n",
    "        tmp = cur\n",
    "#         final_opinion_dict[prev_id] = int(prev_line.split(',')[-1])\n",
    "        prev_line = line\n",
    "        prev_id = tweet_id\n",
    "    except:\n",
    "        prev_line = line\n",
    "        tmp = tmp+cur\n",
    "        continue"
   ]
  },
  {
   "cell_type": "code",
   "execution_count": 118,
   "metadata": {},
   "outputs": [],
   "source": [
    "f = open('tweet_id_content_rate.txt','r')\n",
    "prev_line = ''\n",
    "prev_id = -1\n",
    "tmp = []\n",
    "for line in f:\n",
    "    cur = []\n",
    "    if \"@\" in line:\n",
    "        for sub in line.split(\"@\"):\n",
    "            pos_name = sub.split(\" \")[0]\n",
    "            if pos_name in user_name_id_dict:\n",
    "                cur.append(int(user_name_id_dict[pos_name]))\n",
    "    if line.startswith(\"tweetID\"):\n",
    "        tweet_id = int(line.split(',')[0].split(\":\")[1])\n",
    "        if len(tmp)>0:\n",
    "            tid_mentionID_dict[tid_uid_map[prev_id]] = tmp\n",
    "        tmp = cur\n",
    "        prev_line = line\n",
    "        prev_id = tweet_id\n",
    "    else:\n",
    "        prev_line = line\n",
    "        tmp = tmp+cur\n",
    "        continue"
   ]
  },
  {
   "cell_type": "code",
   "execution_count": 119,
   "metadata": {},
   "outputs": [],
   "source": [
    "pickle.dump(tid_mentionID_dict, open(\"vax_mention_tid_dict.pkl\",\"wb\"))"
   ]
  },
  {
   "cell_type": "code",
   "execution_count": 120,
   "metadata": {},
   "outputs": [
    {
     "name": "stdout",
     "output_type": "stream",
     "text": [
      "380 430\n"
     ]
    }
   ],
   "source": [
    "s = 0\n",
    "u_set2 = set()\n",
    "for i in tid_mentionID_dict:\n",
    "    u_set2.add(int(i))\n",
    "    for j in tid_mentionID_dict[i]:\n",
    "        u_set2.add(int(j))\n",
    "    s+= (len(tid_mentionID_dict[i]))\n",
    "print(s, len(u_set2))"
   ]
  },
  {
   "cell_type": "code",
   "execution_count": 121,
   "metadata": {},
   "outputs": [
    {
     "name": "stdout",
     "output_type": "stream",
     "text": [
      "0\n"
     ]
    }
   ],
   "source": [
    "mentions = {}\n",
    "for i in G.nodes():\n",
    "    user_data = data[i]\n",
    "    for each in user_data:\n",
    "        tweet_id = each['tweet_id']\n",
    "        if tweet_id in tid_mentionID_dict:\n",
    "            if i in mentions:\n",
    "                mentions[i].append(tid_mentionID_dict[tweet_id])\n",
    "            else:\n",
    "                mentions[i] = [tid_mentionID_dict[tweet_id]]\n",
    "            \n",
    "print(len(mentions))"
   ]
  },
  {
   "cell_type": "code",
   "execution_count": 128,
   "metadata": {},
   "outputs": [
    {
     "data": {
      "text/plain": [
       "648"
      ]
     },
     "execution_count": 128,
     "metadata": {},
     "output_type": "execute_result"
    }
   ],
   "source": [
    "len(u_set|u_set2)"
   ]
  },
  {
   "cell_type": "code",
   "execution_count": 124,
   "metadata": {},
   "outputs": [],
   "source": [
    "with open('ukrainewar_final.json') as json_file:\n",
    "    data = json.load(json_file)\n",
    "    \n",
    "tid_uid_map = {}\n",
    "for user in data:\n",
    "    for it in data[user]:\n",
    "        tid_uid_map[it[\"tweet_id\"]] = int(user)"
   ]
  },
  {
   "cell_type": "code",
   "execution_count": 125,
   "metadata": {},
   "outputs": [],
   "source": [
    "f = open('tweet_id_content_rate_war.txt','r')\n",
    "tid_mentionID_dict = {}\n",
    "prev_line = ''\n",
    "prev_id = -1\n",
    "tmp = []\n",
    "for line in f:\n",
    "    cur = []\n",
    "    if \"@\" in line:\n",
    "        for sub in line.split(\"@\"):\n",
    "            pos_name = sub.split(\" \")[0]\n",
    "            if pos_name in user_name_id_dict:\n",
    "                cur.append(user_name_id_dict[pos_name])\n",
    "    if line.startswith(\"tweetID\"):\n",
    "        tweet_id = int(line.split(',')[0].split(\":\")[1])\n",
    "        if len(tmp)>0:\n",
    "            tid_mentionID_dict[tid_uid_map[prev_id]] = tmp\n",
    "        tmp = cur\n",
    "        prev_line = line\n",
    "        prev_id = tweet_id\n",
    "    else:\n",
    "        prev_line = line\n",
    "        tmp = tmp+cur\n",
    "        continue"
   ]
  },
  {
   "cell_type": "code",
   "execution_count": 126,
   "metadata": {},
   "outputs": [],
   "source": [
    "pickle.dump(tid_mentionID_dict, open(\"war_mention_tid_dict.pkl\",\"wb\"))"
   ]
  },
  {
   "cell_type": "code",
   "execution_count": 127,
   "metadata": {},
   "outputs": [
    {
     "name": "stdout",
     "output_type": "stream",
     "text": [
      "288 343\n"
     ]
    }
   ],
   "source": [
    "s = 0\n",
    "u_set = set()\n",
    "for i in tid_mentionID_dict:\n",
    "    u_set.add(int(i))\n",
    "    for j in tid_mentionID_dict[i]:\n",
    "        u_set.add(int(j))\n",
    "    s+= (len(tid_mentionID_dict[i]))\n",
    "print(s, len(u_set))"
   ]
  },
  {
   "cell_type": "code",
   "execution_count": 97,
   "metadata": {},
   "outputs": [
    {
     "name": "stdout",
     "output_type": "stream",
     "text": [
      "5\n"
     ]
    }
   ],
   "source": [
    "mentions = {}\n",
    "for i in G.nodes():\n",
    "    user_data = data[i]\n",
    "    for each in user_data:\n",
    "        tweet_id = each['tweet_id']\n",
    "        if tweet_id in tid_mentionID_dict:\n",
    "            if i in mentions:\n",
    "                mentions[i].append(tid_mentionID_dict[tweet_id])\n",
    "            else:\n",
    "                mentions[i] = [tid_mentionID_dict[tweet_id]]\n",
    "            \n",
    "print(len(mentions))"
   ]
  }
 ],
 "metadata": {
  "kernelspec": {
   "display_name": "twitter",
   "language": "python",
   "name": "twitter"
  },
  "language_info": {
   "codemirror_mode": {
    "name": "ipython",
    "version": 3
   },
   "file_extension": ".py",
   "mimetype": "text/x-python",
   "name": "python",
   "nbconvert_exporter": "python",
   "pygments_lexer": "ipython3",
   "version": "3.10.13"
  }
 },
 "nbformat": 4,
 "nbformat_minor": 4
}
